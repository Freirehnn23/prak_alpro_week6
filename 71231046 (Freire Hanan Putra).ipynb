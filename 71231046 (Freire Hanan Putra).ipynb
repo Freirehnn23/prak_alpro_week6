{
 "cells": [
  {
   "cell_type": "code",
   "execution_count": 3,
   "id": "170b59e7",
   "metadata": {},
   "outputs": [
    {
     "name": "stdout",
     "output_type": "stream",
     "text": [
      "6 x 5 = 5 + 5 + 5 + 5 + 5 + 5 = 30\n",
      "7 x 10 = 10 + 10 + 10 + 10 + 10 + 10 + 10 = 70\n"
     ]
    }
   ],
   "source": [
    "def perkalian(a, b):\n",
    "    hasil = 0\n",
    "    for _ in range(a):\n",
    "        hasil += b\n",
    "    return hasil\n",
    "\n",
    "# Contoh penggunaan\n",
    "print(\"6 x 5 =\", end=\" \")\n",
    "print(\" + \".join([\"5\"] * 6), \"=\", perkalian(6, 5))\n",
    "\n",
    "print(\"7 x 10 =\", end=\" \")\n",
    "print(\" + \".join([\"10\"] * 7), \"=\", perkalian(7, 10))"
   ]
  },
  {
   "cell_type": "code",
   "execution_count": 5,
   "id": "341e29b5",
   "metadata": {},
   "outputs": [
    {
     "name": "stdout",
     "output_type": "stream",
     "text": [
      "Masukkan batas bawah: 67\n",
      "Masukkan batas atas: 88\n",
      "Deret bilangan ganjil: 67, 69, 71, 73, 75, 77, 79, 81, 83, 85, 87\n"
     ]
    }
   ],
   "source": [
    "def ganjil(bawah, atas):\n",
    "    deret = []\n",
    "    if bawah < atas:\n",
    "        for i in range(bawah, atas + 1):\n",
    "            if i % 2 != 0:\n",
    "                deret.append(i)\n",
    "    else:\n",
    "        for i in range(bawah, atas - 1, -1):\n",
    "            if i % 2 != 0:\n",
    "                deret.append(i)\n",
    "    return deret\n",
    "\n",
    "bawah = int(input(\"Masukkan batas bawah: \"))\n",
    "atas = int(input(\"Masukkan batas atas: \"))\n",
    "\n",
    "hasil = ganjil(bawah, atas)\n",
    "print(\"Deret bilangan ganjil:\", \", \".join(map(str, hasil)))"
   ]
  },
  {
   "cell_type": "code",
   "execution_count": 10,
   "id": "c34ec80d",
   "metadata": {},
   "outputs": [
    {
     "name": "stdout",
     "output_type": "stream",
     "text": [
      "Masukkan jumlah mata kuliah: 4\n",
      "\n",
      "Mata kuliah ke-1:\n",
      "Masukkan nilai (A/B/C/D): A\n",
      "\n",
      "Mata kuliah ke-2:\n",
      "Masukkan nilai (A/B/C/D): D\n",
      "\n",
      "Mata kuliah ke-3:\n",
      "Masukkan nilai (A/B/C/D): C\n",
      "\n",
      "Mata kuliah ke-4:\n",
      "Masukkan nilai (A/B/C/D): A\n",
      "\n",
      "Indeks Prestasi Semester (IPS) Anda adalah: 2.75\n"
     ]
    }
   ],
   "source": [
    "def hitung_ips(jumlah_matkul):\n",
    "    total_bobot = 0\n",
    "    total_sks = 0\n",
    "\n",
    "    for i in range(1, jumlah_matkul + 1):\n",
    "        print(f\"\\nMata kuliah ke-{i}:\")\n",
    "        nilai = input(\"Masukkan nilai (A/B/C/D): \").upper()\n",
    "        \n",
    "        if nilai == 'A':\n",
    "            bobot = 4\n",
    "        elif nilai == 'B':\n",
    "            bobot = 3\n",
    "        elif nilai == 'C':\n",
    "            bobot = 2\n",
    "        elif nilai == 'D':\n",
    "            bobot = 1\n",
    "        else:\n",
    "            print(\"Nilai tidak valid. Harap masukkan A, B, C, atau D.\")\n",
    "            return None\n",
    "        \n",
    "        sks = 3  \n",
    "        total_bobot += bobot * sks\n",
    "        total_sks += sks\n",
    "\n",
    "    ips = total_bobot / total_sks\n",
    "    return ips\n",
    "\n",
    "jumlah_matkul = int(input(\"Masukkan jumlah mata kuliah: \"))\n",
    "\n",
    "hasil_ips = hitung_ips(jumlah_matkul)\n",
    "\n",
    "if hasil_ips is not None:\n",
    "    print(f\"\\nIndeks Prestasi Semester (IPS) Anda adalah: {hasil_ips:.2f}\")"
   ]
  },
  {
   "cell_type": "code",
   "execution_count": null,
   "id": "da6dcd19",
   "metadata": {},
   "outputs": [],
   "source": []
  },
  {
   "cell_type": "markdown",
   "id": "fc68b1b8",
   "metadata": {},
   "source": []
  }
 ],
 "metadata": {
  "kernelspec": {
   "display_name": "Python 3 (ipykernel)",
   "language": "python",
   "name": "python3"
  },
  "language_info": {
   "codemirror_mode": {
    "name": "ipython",
    "version": 3
   },
   "file_extension": ".py",
   "mimetype": "text/x-python",
   "name": "python",
   "nbconvert_exporter": "python",
   "pygments_lexer": "ipython3",
   "version": "3.11.5"
  }
 },
 "nbformat": 4,
 "nbformat_minor": 5
}
